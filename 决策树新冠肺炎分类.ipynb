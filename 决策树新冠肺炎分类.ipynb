{
 "cells": [
  {
   "cell_type": "code",
   "execution_count": 1,
   "id": "e1f0d29a",
   "metadata": {
    "ExecuteTime": {
     "end_time": "2023-12-17T22:44:00.568973Z",
     "start_time": "2023-12-17T22:43:58.689398Z"
    }
   },
   "outputs": [],
   "source": [
    "import numpy as np\n",
    "import pandas as pd\n",
    "import matplotlib.pyplot as plt\n",
    "import seaborn as sns\n",
    "import missingno as msno\n",
    "from sklearn.tree import DecisionTreeClassifier, export_graphviz\n",
    "from IPython.display import SVG\n",
    "from graphviz import Source\n",
    "import itertools\n",
    "from sklearn.model_selection import train_test_split, cross_val_score, RandomizedSearchCV\n",
    "from sklearn.metrics import accuracy_score, roc_auc_score, recall_score, confusion_matrix\n",
    "\n",
    "\n",
    "import xgboost as xgb\n",
    "import warnings\n",
    "warnings.filterwarnings(\"ignore\")\n",
    "%matplotlib inline\n"
   ]
  },
  {
   "cell_type": "code",
   "execution_count": 3,
   "id": "4fa0e82e",
   "metadata": {
    "ExecuteTime": {
     "end_time": "2023-12-17T22:44:38.608355Z",
     "start_time": "2023-12-17T22:44:37.816406Z"
    }
   },
   "outputs": [],
   "source": [
    "covid = pd.read_csv(\"CovidData.csv\")"
   ]
  },
  {
   "cell_type": "code",
   "execution_count": 4,
   "id": "db3e569c",
   "metadata": {
    "ExecuteTime": {
     "end_time": "2023-12-17T22:45:07.982658Z",
     "start_time": "2023-12-17T22:45:07.952663Z"
    }
   },
   "outputs": [
    {
     "data": {
      "text/html": [
       "<div>\n",
       "<style scoped>\n",
       "    .dataframe tbody tr th:only-of-type {\n",
       "        vertical-align: middle;\n",
       "    }\n",
       "\n",
       "    .dataframe tbody tr th {\n",
       "        vertical-align: top;\n",
       "    }\n",
       "\n",
       "    .dataframe thead th {\n",
       "        text-align: right;\n",
       "    }\n",
       "</style>\n",
       "<table border=\"1\" class=\"dataframe\">\n",
       "  <thead>\n",
       "    <tr style=\"text-align: right;\">\n",
       "      <th></th>\n",
       "      <th>USMER</th>\n",
       "      <th>MEDICAL_UNIT</th>\n",
       "      <th>SEX</th>\n",
       "      <th>PATIENT_TYPE</th>\n",
       "      <th>DATE_DIED</th>\n",
       "      <th>INTUBED</th>\n",
       "      <th>PNEUMONIA</th>\n",
       "      <th>AGE</th>\n",
       "      <th>PREGNANT</th>\n",
       "      <th>DIABETES</th>\n",
       "      <th>...</th>\n",
       "      <th>ASTHMA</th>\n",
       "      <th>INMSUPR</th>\n",
       "      <th>HIPERTENSION</th>\n",
       "      <th>OTHER_DISEASE</th>\n",
       "      <th>CARDIOVASCULAR</th>\n",
       "      <th>OBESITY</th>\n",
       "      <th>RENAL_CHRONIC</th>\n",
       "      <th>TOBACCO</th>\n",
       "      <th>CLASIFFICATION_FINAL</th>\n",
       "      <th>ICU</th>\n",
       "    </tr>\n",
       "  </thead>\n",
       "  <tbody>\n",
       "    <tr>\n",
       "      <th>0</th>\n",
       "      <td>2</td>\n",
       "      <td>1</td>\n",
       "      <td>1</td>\n",
       "      <td>1</td>\n",
       "      <td>03/05/2020</td>\n",
       "      <td>97</td>\n",
       "      <td>1</td>\n",
       "      <td>65</td>\n",
       "      <td>2</td>\n",
       "      <td>2</td>\n",
       "      <td>...</td>\n",
       "      <td>2</td>\n",
       "      <td>2</td>\n",
       "      <td>1</td>\n",
       "      <td>2</td>\n",
       "      <td>2</td>\n",
       "      <td>2</td>\n",
       "      <td>2</td>\n",
       "      <td>2</td>\n",
       "      <td>3</td>\n",
       "      <td>97</td>\n",
       "    </tr>\n",
       "    <tr>\n",
       "      <th>1</th>\n",
       "      <td>2</td>\n",
       "      <td>1</td>\n",
       "      <td>2</td>\n",
       "      <td>1</td>\n",
       "      <td>03/06/2020</td>\n",
       "      <td>97</td>\n",
       "      <td>1</td>\n",
       "      <td>72</td>\n",
       "      <td>97</td>\n",
       "      <td>2</td>\n",
       "      <td>...</td>\n",
       "      <td>2</td>\n",
       "      <td>2</td>\n",
       "      <td>1</td>\n",
       "      <td>2</td>\n",
       "      <td>2</td>\n",
       "      <td>1</td>\n",
       "      <td>1</td>\n",
       "      <td>2</td>\n",
       "      <td>5</td>\n",
       "      <td>97</td>\n",
       "    </tr>\n",
       "    <tr>\n",
       "      <th>2</th>\n",
       "      <td>2</td>\n",
       "      <td>1</td>\n",
       "      <td>2</td>\n",
       "      <td>2</td>\n",
       "      <td>09/06/2020</td>\n",
       "      <td>1</td>\n",
       "      <td>2</td>\n",
       "      <td>55</td>\n",
       "      <td>97</td>\n",
       "      <td>1</td>\n",
       "      <td>...</td>\n",
       "      <td>2</td>\n",
       "      <td>2</td>\n",
       "      <td>2</td>\n",
       "      <td>2</td>\n",
       "      <td>2</td>\n",
       "      <td>2</td>\n",
       "      <td>2</td>\n",
       "      <td>2</td>\n",
       "      <td>3</td>\n",
       "      <td>2</td>\n",
       "    </tr>\n",
       "    <tr>\n",
       "      <th>3</th>\n",
       "      <td>2</td>\n",
       "      <td>1</td>\n",
       "      <td>1</td>\n",
       "      <td>1</td>\n",
       "      <td>12/06/2020</td>\n",
       "      <td>97</td>\n",
       "      <td>2</td>\n",
       "      <td>53</td>\n",
       "      <td>2</td>\n",
       "      <td>2</td>\n",
       "      <td>...</td>\n",
       "      <td>2</td>\n",
       "      <td>2</td>\n",
       "      <td>2</td>\n",
       "      <td>2</td>\n",
       "      <td>2</td>\n",
       "      <td>2</td>\n",
       "      <td>2</td>\n",
       "      <td>2</td>\n",
       "      <td>7</td>\n",
       "      <td>97</td>\n",
       "    </tr>\n",
       "    <tr>\n",
       "      <th>4</th>\n",
       "      <td>2</td>\n",
       "      <td>1</td>\n",
       "      <td>2</td>\n",
       "      <td>1</td>\n",
       "      <td>21/06/2020</td>\n",
       "      <td>97</td>\n",
       "      <td>2</td>\n",
       "      <td>68</td>\n",
       "      <td>97</td>\n",
       "      <td>1</td>\n",
       "      <td>...</td>\n",
       "      <td>2</td>\n",
       "      <td>2</td>\n",
       "      <td>1</td>\n",
       "      <td>2</td>\n",
       "      <td>2</td>\n",
       "      <td>2</td>\n",
       "      <td>2</td>\n",
       "      <td>2</td>\n",
       "      <td>3</td>\n",
       "      <td>97</td>\n",
       "    </tr>\n",
       "  </tbody>\n",
       "</table>\n",
       "<p>5 rows × 21 columns</p>\n",
       "</div>"
      ],
      "text/plain": [
       "   USMER  MEDICAL_UNIT  SEX  PATIENT_TYPE   DATE_DIED  INTUBED  PNEUMONIA  \\\n",
       "0      2             1    1             1  03/05/2020       97          1   \n",
       "1      2             1    2             1  03/06/2020       97          1   \n",
       "2      2             1    2             2  09/06/2020        1          2   \n",
       "3      2             1    1             1  12/06/2020       97          2   \n",
       "4      2             1    2             1  21/06/2020       97          2   \n",
       "\n",
       "   AGE  PREGNANT  DIABETES  ...  ASTHMA  INMSUPR  HIPERTENSION  OTHER_DISEASE  \\\n",
       "0   65         2         2  ...       2        2             1              2   \n",
       "1   72        97         2  ...       2        2             1              2   \n",
       "2   55        97         1  ...       2        2             2              2   \n",
       "3   53         2         2  ...       2        2             2              2   \n",
       "4   68        97         1  ...       2        2             1              2   \n",
       "\n",
       "   CARDIOVASCULAR  OBESITY  RENAL_CHRONIC  TOBACCO  CLASIFFICATION_FINAL  ICU  \n",
       "0               2        2              2        2                     3   97  \n",
       "1               2        1              1        2                     5   97  \n",
       "2               2        2              2        2                     3    2  \n",
       "3               2        2              2        2                     7   97  \n",
       "4               2        2              2        2                     3   97  \n",
       "\n",
       "[5 rows x 21 columns]"
      ]
     },
     "execution_count": 4,
     "metadata": {},
     "output_type": "execute_result"
    }
   ],
   "source": [
    "covid.head()"
   ]
  },
  {
   "cell_type": "code",
   "execution_count": null,
   "id": "d99d796f",
   "metadata": {},
   "outputs": [],
   "source": []
  },
  {
   "cell_type": "code",
   "execution_count": 5,
   "id": "5c29bac3",
   "metadata": {
    "ExecuteTime": {
     "end_time": "2023-12-17T22:45:48.066506Z",
     "start_time": "2023-12-17T22:45:47.640196Z"
    }
   },
   "outputs": [],
   "source": [
    "#数据清洗\n",
    "\n",
    "\n",
    "covid = covid.loc[(covid.CLASIFFICATION_FINAL < 4)]\n",
    "covid = covid.loc[(covid.SEX == 1) | (covid.SEX == 2)]\n",
    "covid = covid.loc[(covid.USMER == 1) | (covid.USMER == 2)]\n",
    "covid = covid.loc[(covid.PATIENT_TYPE == 1) | (covid.PATIENT_TYPE == 2)]\n",
    "covid = covid.loc[(covid.PNEUMONIA == 1) | (covid.PNEUMONIA == 2)]\n",
    "covid = covid.loc[(covid.DIABETES == 1) | (covid.DIABETES == 2)]\n",
    "covid = covid.loc[(covid.COPD == 1) | (covid.COPD == 2)]\n",
    "covid = covid.loc[(covid.ASTHMA == 1) | (covid.ASTHMA == 2)]\n",
    "covid = covid.loc[(covid.INMSUPR == 1) | (covid.INMSUPR == 2)]\n",
    "covid = covid.loc[(covid.HIPERTENSION == 1) | (covid.HIPERTENSION == 2)]\n",
    "covid = covid.loc[(covid.OTHER_DISEASE == 1) | (covid.OTHER_DISEASE == 2)]\n",
    "covid = covid.loc[(covid.CARDIOVASCULAR == 1) | (covid.CARDIOVASCULAR == 2)]\n",
    "covid = covid.loc[(covid.OBESITY == 1) | (covid.OBESITY == 2)]\n",
    "covid = covid.loc[(covid.RENAL_CHRONIC == 1) | (covid.RENAL_CHRONIC == 2)]\n",
    "covid = covid.loc[(covid.TOBACCO == 1) | (covid.TOBACCO == 2)]\n",
    "\n"
   ]
  },
  {
   "cell_type": "code",
   "execution_count": 6,
   "id": "95078017",
   "metadata": {
    "ExecuteTime": {
     "end_time": "2023-12-17T22:46:06.687639Z",
     "start_time": "2023-12-17T22:46:04.688534Z"
    }
   },
   "outputs": [],
   "source": [
    "# ONE HOT\n",
    "\n",
    "\n",
    "covid.SEX = covid.SEX.apply(lambda x: x if x == 1 else 0)  \n",
    "covid.USMER = covid.USMER.apply(lambda x: x if x == 1 else 0)                     # no = 0, yes = 1\n",
    "covid.PATIENT_TYPE = covid.PATIENT_TYPE.apply(lambda x: 0 if x == 1 else 1)     \n",
    "covid.PNEUMONIA = covid.PNEUMONIA.apply(lambda x: x if x == 1 else 0)           \n",
    "covid.DIABETES = covid.DIABETES.apply(lambda x: x if x == 1 else 0)             \n",
    "covid.COPD = covid.COPD.apply(lambda x: x if x == 1 else 0)                     \n",
    "covid.ASTHMA = covid.ASTHMA.apply(lambda x: x if x == 1 else 0)                 \n",
    "covid.INMSUPR = covid.INMSUPR.apply(lambda x: x if x == 1 else 0)               \n",
    "covid.HIPERTENSION = covid.HIPERTENSION.apply(lambda x: x if x == 1 else 0)     \n",
    "covid.OTHER_DISEASE = covid.OTHER_DISEASE.apply(lambda x: x if x == 1 else -0)  \n",
    "covid.CARDIOVASCULAR = covid.CARDIOVASCULAR.apply(lambda x: x if x == 1 else 0) \n",
    "covid.OBESITY = covid.OBESITY.apply(lambda x: x if x == 1 else 0)               \n",
    "covid.RENAL_CHRONIC = covid.RENAL_CHRONIC.apply(lambda x: x if x == 1 else 0)   \n",
    "covid.TOBACCO = covid.TOBACCO.apply(lambda x: x if x == 1 else 0)               \n",
    "covid.DATE_DIED = covid.DATE_DIED.apply(lambda x: 0 if x == \"9999-99-99\" else 1)\n",
    "covid.PREGNANT = covid.PREGNANT.apply(lambda x: x if x == 1 else 0)           \n",
    "covid.INTUBED = covid.INTUBED.apply(lambda x: x if x == 1 else 0)                   \n",
    "covid.ICU = covid.ICU.apply(lambda x: x if x == 1 else 0)"
   ]
  },
  {
   "cell_type": "code",
   "execution_count": 7,
   "id": "583f22aa",
   "metadata": {
    "ExecuteTime": {
     "end_time": "2023-12-17T22:46:19.369763Z",
     "start_time": "2023-12-17T22:46:19.215418Z"
    }
   },
   "outputs": [],
   "source": [
    "covid['AT_RISK'] = covid['DATE_DIED'] + covid['INTUBED'] + covid['ICU']\n",
    "covid.AT_RISK = covid.AT_RISK.apply(lambda x: 1 if x > 0 else 0) \n",
    "\n",
    "# Drop a few columns which are intuitively not longer useful\n",
    "covid.drop(columns = ['CLASIFFICATION_FINAL', 'INTUBED', 'ICU', 'DATE_DIED'], inplace=True)"
   ]
  },
  {
   "cell_type": "code",
   "execution_count": 8,
   "id": "20b22711",
   "metadata": {
    "ExecuteTime": {
     "end_time": "2023-12-17T22:46:26.714265Z",
     "start_time": "2023-12-17T22:46:26.687756Z"
    }
   },
   "outputs": [
    {
     "name": "stdout",
     "output_type": "stream",
     "text": [
      "<class 'pandas.core.frame.DataFrame'>\n",
      "Index: 388878 entries, 0 to 1047937\n",
      "Data columns (total 18 columns):\n",
      " #   Column          Non-Null Count   Dtype\n",
      "---  ------          --------------   -----\n",
      " 0   USMER           388878 non-null  int64\n",
      " 1   MEDICAL_UNIT    388878 non-null  int64\n",
      " 2   SEX             388878 non-null  int64\n",
      " 3   PATIENT_TYPE    388878 non-null  int64\n",
      " 4   PNEUMONIA       388878 non-null  int64\n",
      " 5   AGE             388878 non-null  int64\n",
      " 6   PREGNANT        388878 non-null  int64\n",
      " 7   DIABETES        388878 non-null  int64\n",
      " 8   COPD            388878 non-null  int64\n",
      " 9   ASTHMA          388878 non-null  int64\n",
      " 10  INMSUPR         388878 non-null  int64\n",
      " 11  HIPERTENSION    388878 non-null  int64\n",
      " 12  OTHER_DISEASE   388878 non-null  int64\n",
      " 13  CARDIOVASCULAR  388878 non-null  int64\n",
      " 14  OBESITY         388878 non-null  int64\n",
      " 15  RENAL_CHRONIC   388878 non-null  int64\n",
      " 16  TOBACCO         388878 non-null  int64\n",
      " 17  AT_RISK         388878 non-null  int64\n",
      "dtypes: int64(18)\n",
      "memory usage: 56.4 MB\n",
      "None\n"
     ]
    }
   ],
   "source": [
    "print(covid.info())"
   ]
  },
  {
   "cell_type": "code",
   "execution_count": 9,
   "id": "fcf94893",
   "metadata": {
    "ExecuteTime": {
     "end_time": "2023-12-17T22:46:33.939358Z",
     "start_time": "2023-12-17T22:46:33.927361Z"
    }
   },
   "outputs": [
    {
     "data": {
      "text/plain": [
       "<bound method NDFrame.describe of          USMER  MEDICAL_UNIT  SEX  PATIENT_TYPE  PNEUMONIA  AGE  PREGNANT  \\\n",
       "0            0             1    1             0          1   65         0   \n",
       "2            0             1    0             1          0   55         0   \n",
       "4            0             1    0             0          0   68         0   \n",
       "5            0             1    1             1          1   40         0   \n",
       "6            0             1    1             0          0   64         0   \n",
       "...        ...           ...  ...           ...        ...  ...       ...   \n",
       "1047933      1            13    1             1          0   77         0   \n",
       "1047934      1            13    1             0          0   55         0   \n",
       "1047935      1            13    0             0          0   70         0   \n",
       "1047936      0            13    0             0          0   32         0   \n",
       "1047937      0            13    1             0          0   30         0   \n",
       "\n",
       "         DIABETES  COPD  ASTHMA  INMSUPR  HIPERTENSION  OTHER_DISEASE  \\\n",
       "0               0     0       0        0             1              0   \n",
       "2               1     0       0        0             0              0   \n",
       "4               1     0       0        0             1              0   \n",
       "5               0     0       0        0             0              0   \n",
       "6               0     0       0        0             0              0   \n",
       "...           ...   ...     ...      ...           ...            ...   \n",
       "1047933         1     0       0        1             1              0   \n",
       "1047934         1     0       0        0             0              0   \n",
       "1047935         0     0       0        0             1              0   \n",
       "1047936         0     0       0        0             0              0   \n",
       "1047937         0     0       0        0             0              0   \n",
       "\n",
       "         CARDIOVASCULAR  OBESITY  RENAL_CHRONIC  TOBACCO  AT_RISK  \n",
       "0                     0        0              0        0        1  \n",
       "2                     0        0              0        0        1  \n",
       "4                     0        0              0        0        1  \n",
       "5                     0        0              0        0        0  \n",
       "6                     0        0              0        0        0  \n",
       "...                 ...      ...            ...      ...      ...  \n",
       "1047933               0        0              0        0        0  \n",
       "1047934               0        0              0        0        0  \n",
       "1047935               0        0              0        0        0  \n",
       "1047936               0        0              0        0        0  \n",
       "1047937               0        0              0        0        0  \n",
       "\n",
       "[388878 rows x 18 columns]>"
      ]
     },
     "execution_count": 9,
     "metadata": {},
     "output_type": "execute_result"
    }
   ],
   "source": [
    "covid.describe"
   ]
  },
  {
   "cell_type": "code",
   "execution_count": 13,
   "id": "20bbdc96",
   "metadata": {
    "ExecuteTime": {
     "end_time": "2023-12-17T22:49:54.675473Z",
     "start_time": "2023-12-17T22:49:54.630951Z"
    }
   },
   "outputs": [],
   "source": []
  },
  {
   "cell_type": "code",
   "execution_count": 14,
   "id": "62b7e359",
   "metadata": {
    "ExecuteTime": {
     "end_time": "2023-12-17T22:56:04.184755Z",
     "start_time": "2023-12-17T22:56:04.071260Z"
    }
   },
   "outputs": [],
   "source": [
    "#train(90%), validation(5%) and test(5%)\n",
    "train, validation = train_test_split(covid, test_size=0.1, shuffle=True)\n",
    "validation, test = train_test_split(validation, test_size=0.5, shuffle=True)\n",
    "\n",
    "validation_y = validation.AT_RISK.to_numpy()\n",
    "validation_x = validation.drop(columns = ['AT_RISK']).to_numpy()\n",
    "\n",
    "test_y = test.AT_RISK.to_numpy()\n",
    "test_x = test.drop(columns = ['AT_RISK']).to_numpy()"
   ]
  },
  {
   "cell_type": "code",
   "execution_count": 15,
   "id": "24e52ef1",
   "metadata": {
    "ExecuteTime": {
     "end_time": "2023-12-17T22:58:17.680381Z",
     "start_time": "2023-12-17T22:58:17.661374Z"
    }
   },
   "outputs": [],
   "source": [
    "#F1评价指标\n",
    "\n",
    "\n",
    "def get_Fmeasure(prediction, labels):\n",
    "\n",
    "    # Compares the prediction of each object to its label\n",
    "    true_positive = np.sum((prediction + labels) == 2)\n",
    "    false_positive = np.sum((labels - prediction) == -1)\n",
    "    false_negative = np.sum((prediction - labels) == -1)\n",
    "    positive = np.count_nonzero(labels == 1)\n",
    "    negative = len(labels)-positive\n",
    "\n",
    "    # Calculate F-measure\n",
    "    accuracy = 100*np.sum(prediction == labels)/len(labels)\n",
    "    recall = true_positive / (true_positive + false_negative)\n",
    "    precision = true_positive / (true_positive + false_positive)\n",
    "    eval = 2*(precision * recall) / (precision + recall)\n",
    "    return eval\n",
    "\n"
   ]
  },
  {
   "cell_type": "code",
   "execution_count": 16,
   "id": "6974beb2",
   "metadata": {
    "ExecuteTime": {
     "end_time": "2023-12-17T22:58:51.103235Z",
     "start_time": "2023-12-17T22:58:51.055711Z"
    }
   },
   "outputs": [],
   "source": [
    "train_y = train.AT_RISK.to_numpy()\n",
    "train_x = train.drop(columns = ['AT_RISK']).to_numpy()\n",
    "\n",
    "\n",
    "\n",
    "heuristics = [\"entropy\", \"gini\"]\n",
    "splitters = [\"best\", \"random\"]\n",
    "max_depth = [5, 7, 11, 13, 17]\n",
    "dt_fmeasures = {}\n",
    "dt_best_result = 0\n"
   ]
  },
  {
   "cell_type": "code",
   "execution_count": 20,
   "id": "160645b1",
   "metadata": {
    "ExecuteTime": {
     "end_time": "2023-12-18T15:37:43.737397Z",
     "start_time": "2023-12-18T15:37:31.056000Z"
    }
   },
   "outputs": [
    {
     "data": {
      "image/png": "[encoded data removed]",
      "text/plain": [
       "<Figure size 640x480 with 1 Axes>"
      ]
     },
     "metadata": {},
     "output_type": "display_data"
    }
   ],
   "source": [
    "for d in max_depth:\n",
    "    dt_fmeasures[d] = np.zeros(len(heuristics)*len(splitters))\n",
    "    i=0\n",
    "    for heuristic, splitter in [(heuristic, splitter) for heuristic in heuristics for splitter in splitters]:\n",
    "        # create a Decision Tree classifier instance and compute the prediction\n",
    "        dt_classifier = DecisionTreeClassifier(criterion=heuristic, splitter=splitter, max_depth=d, class_weight='balanced')\n",
    "        dt_classifier.fit(train_x, train_y)\n",
    "        y_pred = dt_classifier.predict(validation_x)\n",
    "\n",
    "        # calculate F-measures and save best model\n",
    "        dt_fmeasures[d][i] = get_Fmeasure(y_pred, validation_y)\n",
    "        if dt_fmeasures[d][i] > dt_best_result:\n",
    "            dt_best_result = dt_fmeasures[d][i]\n",
    "            dt_best_model = dt_classifier\n",
    "        i=i+1\n",
    "        \n",
    "    \n",
    "\n",
    "l1, l2, l3, l4 = [], [], [], []\n",
    "for k in dt_fmeasures.keys():\n",
    "    fmeasures = dt_fmeasures[k]\n",
    "    plt.scatter([k] * len(fmeasures), fmeasures)\n",
    "    l1.append(dt_fmeasures[k][0])\n",
    "    l2.append(dt_fmeasures[k][1])\n",
    "    l3.append(dt_fmeasures[k][2])\n",
    "    l4.append(dt_fmeasures[k][3])\n",
    "\n",
    "# create line for each of the four models\n",
    "plt.errorbar(max_depth, l1, label ='id3 best')\n",
    "plt.errorbar(max_depth, l2, label ='id3 random')\n",
    "plt.errorbar(max_depth, l3, label ='gini best')\n",
    "plt.errorbar(max_depth, l4, label ='gini random')\n",
    "plt.legend(loc ='lower right')\n",
    "plt.title('Decision Trees values comparison')\n",
    "plt.xlabel('Tree Depth')\n",
    "plt.ylabel('F1')\n",
    "plt.ylim(0.630, 0.6765)\n",
    "plt.show()\n",
    "\n"
   ]
  },
  {
   "cell_type": "code",
   "execution_count": 21,
   "id": "f697be17",
   "metadata": {
    "ExecuteTime": {
     "end_time": "2023-12-18T15:37:47.314001Z",
     "start_time": "2023-12-18T15:37:47.295960Z"
    }
   },
   "outputs": [
    {
     "name": "stdout",
     "output_type": "stream",
     "text": [
      "best result for: heuristic = entropy, splitter = random, max depth = 7, F1 = 0.660153\n"
     ]
    }
   ],
   "source": [
    "params = dt_best_model.get_params()\n",
    "print('best result for: heuristic = %s, splitter = %s, max depth = %d, F1 = %f' % (params['criterion'], params['splitter'], params['max_depth'], dt_best_result))\n",
    "\n"
   ]
  },
  {
   "cell_type": "code",
   "execution_count": 22,
   "id": "797c791d",
   "metadata": {
    "ExecuteTime": {
     "end_time": "2023-12-18T15:56:25.434555Z",
     "start_time": "2023-12-18T15:56:25.428498Z"
    }
   },
   "outputs": [],
   "source": [
    "dt_pred = dt_best_model.predict(test_x)"
   ]
  },
  {
   "cell_type": "code",
   "execution_count": 24,
   "id": "f9d93b5b",
   "metadata": {
    "ExecuteTime": {
     "end_time": "2023-12-18T15:56:54.859329Z",
     "start_time": "2023-12-18T15:56:54.850821Z"
    }
   },
   "outputs": [],
   "source": [
    "final_fmeasures = {}\n",
    "final_fmeasures['decision tree'] = get_Fmeasure(dt_pred, test_y)"
   ]
  },
  {
   "cell_type": "code",
   "execution_count": 26,
   "id": "4ceea581",
   "metadata": {
    "ExecuteTime": {
     "end_time": "2023-12-18T16:22:54.277698Z",
     "start_time": "2023-12-18T16:22:54.246295Z"
    }
   },
   "outputs": [
    {
     "name": "stdout",
     "output_type": "stream",
     "text": [
      "\n",
      "               precision    recall  f1-score   support\n",
      "\n",
      "           0       0.99      0.84      0.91     16368\n",
      "           1       0.52      0.95      0.67      3076\n",
      "\n",
      "    accuracy                           0.86     19444\n",
      "   macro avg       0.76      0.89      0.79     19444\n",
      "weighted avg       0.91      0.86      0.87     19444\n",
      "\n"
     ]
    }
   ],
   "source": [
    "from sklearn.metrics import classification_report\n",
    "print('\\n', classification_report(test_y, dt_pred))"
   ]
  },
  {
   "cell_type": "code",
   "execution_count": 35,
   "id": "17ae20ec",
   "metadata": {
    "ExecuteTime": {
     "end_time": "2023-12-18T17:28:19.734988Z",
     "start_time": "2023-12-18T17:28:19.718977Z"
    }
   },
   "outputs": [],
   "source": [
    "from sklearn.metrics import accuracy_score,recall_score,f1_score,precision_score,confusion_matrix"
   ]
  },
  {
   "cell_type": "code",
   "execution_count": 48,
   "id": "090bb3e8",
   "metadata": {
    "ExecuteTime": {
     "end_time": "2023-12-18T17:48:33.767165Z",
     "start_time": "2023-12-18T17:48:33.754793Z"
    }
   },
   "outputs": [
    {
     "name": "stdout",
     "output_type": "stream",
     "text": [
      "[[13715  2653]\n",
      " [  164  2912]]\n"
     ]
    }
   ],
   "source": [
    "test_y = np.array(test_y)\n",
    "dt_pred = np.array(dt_pred)\n",
    "y_test = test_y.copy()\n",
    "y_pred = dt_pred.copy()\n",
    "c_matrix_tree = confusion_matrix(y_test, y_pred)\n",
    "print(c_matrix_tree) #打印出来看看\n"
   ]
  },
  {
   "cell_type": "code",
   "execution_count": 49,
   "id": "62947fb2",
   "metadata": {
    "ExecuteTime": {
     "end_time": "2023-12-18T17:49:06.598246Z",
     "start_time": "2023-12-18T17:49:02.097572Z"
    }
   },
   "outputs": [],
   "source": [
    "from sklearn.metrics import confusion_matrix    # 生成混淆矩阵函数\n",
    "import matplotlib.pyplot as plt    # 绘图库\n",
    "import numpy as np\n",
    "import tensorflow as tf\n",
    "\n",
    "def plot_confusion_matrix(cm, labels_name, title):\n",
    "    cm = cm.astype('float') / cm.sum(axis=1)[:, np.newaxis]    # 归一化\n",
    "    plt.imshow(cm, interpolation='nearest')    # 在特定的窗口上显示图像\n",
    "    plt.title(title)    # 图像标题\n",
    "    plt.colorbar()\n",
    "    num_local = np.array(range(len(labels_name)))    \n",
    "    plt.xticks(num_local, labels_name, rotation=90)    # 将标签印在x轴坐标上\n",
    "    plt.yticks(num_local, labels_name)    # 将标签印在y轴坐标上\n",
    "    plt.ylabel('True label')    \n",
    "    plt.xlabel('Predicted label')"
   ]
  },
  {
   "cell_type": "code",
   "execution_count": 53,
   "id": "98de65e1",
   "metadata": {
    "ExecuteTime": {
     "end_time": "2023-12-18T17:56:00.548413Z",
     "start_time": "2023-12-18T17:56:00.377325Z"
    }
   },
   "outputs": [
    {
     "data": {
      "image/png": "[encoded data removed]",
      "text/plain": [
       "<Figure size 640x480 with 2 Axes>"
      ]
     },
     "metadata": {},
     "output_type": "display_data"
    }
   ],
   "source": [
    "    plot_confusion_matrix(c_matrix_tree, [0,1], \"混淆矩阵\")\n",
    "    plt.show()"
   ]
  },
  {
   "cell_type": "code",
   "execution_count": null,
   "id": "45bb29e5",
   "metadata": {},
   "outputs": [],
   "source": []
  }
 ],
 "metadata": {
  "kernelspec": {
   "display_name": "Python 3 (ipykernel)",
   "language": "python",
   "name": "python3"
  },
  "language_info": {
   "codemirror_mode": {
    "name": "ipython",
    "version": 3
   },
   "file_extension": ".py",
   "mimetype": "text/x-python",
   "name": "python",
   "nbconvert_exporter": "python",
   "pygments_lexer": "ipython3",
   "version": "3.8.18"
  },
  "toc": {
   "base_numbering": 1,
   "nav_menu": {},
   "number_sections": true,
   "sideBar": true,
   "skip_h1_title": false,
   "title_cell": "Table of Contents",
   "title_sidebar": "Contents",
   "toc_cell": false,
   "toc_position": {},
   "toc_section_display": true,
   "toc_window_display": false
  }
 },
 "nbformat": 4,
 "nbformat_minor": 5
}
